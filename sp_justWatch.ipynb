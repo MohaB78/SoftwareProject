{
 "cells": [
  {
   "cell_type": "markdown",
   "metadata": {},
   "source": [
    "### Scrapping JustWatch"
   ]
  },
  {
   "cell_type": "code",
   "execution_count": 1,
   "metadata": {},
   "outputs": [],
   "source": [
    "import pandas as pd\n",
    "import numpy as np\n",
    "from bs4 import BeautifulSoup\n",
    "import re \n",
    "import requests\n",
    "from selenium import webdriver\n",
    "from selenium.webdriver.common.by import By\n",
    "from selenium.webdriver.common.keys import Keys\n",
    "import time"
   ]
  },
  {
   "cell_type": "code",
   "execution_count": 2,
   "metadata": {},
   "outputs": [],
   "source": [
    "driver_path = r\"/Users/kiouloueleonor/Documents/Ecole/A4/python for data/TD/TP7_selenium/chromedriver\""
   ]
  },
  {
   "cell_type": "code",
   "execution_count": 3,
   "metadata": {},
   "outputs": [],
   "source": [
    "driver = webdriver.Chrome()\n",
    "driver.get(\"https://www.justwatch.com/fr\")\n",
    "src = driver.page_source\n",
    "soup = BeautifulSoup(src, 'lxml')"
   ]
  },
  {
   "cell_type": "code",
   "execution_count": 4,
   "metadata": {},
   "outputs": [
    {
     "name": "stdout",
     "output_type": "stream",
     "text": [
      "['https://www.justwatch.com/fr/plateforme/netflix', 'https://www.justwatch.com/fr/plateforme/netflix/nouveau', '/fr/plateforme/netflix', '/fr/plateforme/netflix-basic-with-ads', '/fr/plateforme/netflix', '/fr/plateforme/netflix/nouveau'] \n",
      "\n",
      "['https://www.justwatch.com/fr/plateforme/amazon-prime-video', '/fr/plateforme/amazon-prime-video', '/fr/plateforme/amazon-prime-video', '/fr/plateforme/amazon-prime-video/nouveau'] \n",
      "\n",
      "['/fr/plateforme/disney-plus', '/fr/plateforme/disney-plus', '/fr/plateforme/disney-plus/nouveau'] \n",
      "\n",
      "['https://www.justwatch.com/fr/plateforme/canal', '/fr/plateforme/canal', '/fr/plateforme/canal-vod', '/fr/plateforme/canal-sport', '/fr/plateforme/canal', '/fr/plateforme/canal/nouveau'] \n",
      "\n",
      "['https://www.justwatch.com/fr/plateforme/ocs-go', 'https://www.justwatch.com/fr/plateforme/ocs-go/nouveau', '/fr/plateforme/ocs-go', '/fr/plateforme/ocs-go', '/fr/plateforme/ocs-go/nouveau'] \n",
      "\n",
      "['/fr/plateforme/wakanim'] \n",
      "\n"
     ]
    }
   ],
   "source": [
    "# list of all the link\n",
    "previous_list = []\n",
    "for a in soup.find_all('a', href=True):\n",
    "    previous_list.append(a['href'])\n",
    "\n",
    "# only link for the different platform\n",
    "list_netflix = []\n",
    "list_amazon = []\n",
    "list_disney = []\n",
    "list_canal = []\n",
    "list_ocs = []\n",
    "list_wakanim = []\n",
    "for j in previous_list:\n",
    "    if \"/fr/plateforme/netflix\" in j:\n",
    "        list_netflix.append(j)\n",
    "    if \"/fr/plateforme/amazon-prime-video\" in j:\n",
    "        list_amazon.append(j)\n",
    "    if \"/fr/plateforme/disney-plus\" in j:\n",
    "        list_disney.append(j) \n",
    "    if \"/fr/plateforme/canal\" in j:\n",
    "        list_canal.append(j)\n",
    "    if \"/fr/plateforme/ocs-go\" in j:\n",
    "        list_ocs.append(j)\n",
    "    if \"/fr/plateforme/wakanim\" in j:\n",
    "        list_wakanim.append(j)\n",
    "print (list_netflix,'\\n')\n",
    "print (list_amazon, '\\n')\n",
    "print (list_disney, '\\n')\n",
    "print (list_canal, '\\n')\n",
    "print (list_ocs, '\\n')\n",
    "print (list_wakanim, '\\n')"
   ]
  },
  {
   "cell_type": "code",
   "execution_count": 10,
   "metadata": {},
   "outputs": [],
   "source": [
    "def scroll ():\n",
    "    start = time.time()\n",
    " \n",
    "    # will be used in the while loop\n",
    "    initialScroll = 0\n",
    "    finalScroll = 10000\n",
    " \n",
    "    while True:\n",
    "        driver.execute_script(f\"window.scrollTo({initialScroll},{finalScroll})\")\n",
    "        # this command scrolls the window starting from\n",
    "        # the pixel value stored in the initialScroll\n",
    "        # variable to the pixel value stored at the\n",
    "        # finalScroll variable\n",
    "        initialScroll = finalScroll\n",
    "        finalScroll += 1000\n",
    " \n",
    "        # we will stop the script for 3 seconds so that\n",
    "        # the data can load\n",
    "        time.sleep(0.5)\n",
    "        # You can change it as per your needs and internet speed\n",
    " \n",
    "        end = time.time()\n",
    " \n",
    "        # We will scroll for 20 seconds.\n",
    "        # You can change it as per your needs and internet speed\n",
    "        if round(end - start) > 200:\n",
    "            break"
   ]
  },
  {
   "cell_type": "code",
   "execution_count": 6,
   "metadata": {},
   "outputs": [],
   "source": [
    "def link_page():\n",
    "    list_link = []\n",
    "    for a in soup.find_all('a', href=True):\n",
    "        list_link.append(a['href'])\n",
    "    return list_link"
   ]
  },
  {
   "cell_type": "code",
   "execution_count": 7,
   "metadata": {},
   "outputs": [],
   "source": [
    "def serie_film_link(content, platform):\n",
    "    list_rd = []\n",
    "    str = \"/fr/\"+content+\"/\"\n",
    "    for j in platform:\n",
    "        if str in j:\n",
    "            list_rd.append(j)\n",
    "    return list_rd"
   ]
  },
  {
   "cell_type": "code",
   "execution_count": 24,
   "metadata": {},
   "outputs": [],
   "source": [
    "\n",
    "def Scrap_page(link):\n",
    "    names=[]   \n",
    "    genres_tit=[]\n",
    "    année=[]\n",
    "    cast=[]\n",
    "    genres=[]\n",
    "    cast_tit=[]\n",
    "    images=[]\n",
    "    notes=[]\n",
    "\n",
    "    driver.get(f\"https://www.justwatch.com{link}\")\n",
    "    src = driver.page_source\n",
    "    soup = BeautifulSoup(src, 'lxml')\n",
    "\n",
    "    names.append(soup.find(\"div\",class_=\"title-block\").find(\"h1\").get_text())\n",
    "\n",
    "    div = soup.find(\"div\",class_=\"title-info visible-xs visible-sm\")\n",
    "    for t in div.find_all(\"span\"):\n",
    "        if(t.get_text()!=\", \"):\n",
    "            genres_tit.append(t.get_text().replace(\", \",''))\n",
    "    genres.append(genres_tit)\n",
    "\n",
    "    année.append(re.findall('\\d+',soup.find(\"div\",class_=\"title-block\").find(\"span\").get_text())[0])\n",
    "\n",
    "    divo = soup.find(\"div\",class_=\"hidden-horizontal-scrollbar title-credits\")\n",
    "\n",
    "    for t in divo.find_all(\"a\",class_='title-credit-name'):\n",
    "        cast_tit.append(t.get_text())\n",
    "    cast.append(cast_tit)\n",
    "\n",
    "    pict=soup.find('picture',class_='picture-comp title-poster__image')\n",
    "    images.append(pict.find('img')['src'])\n",
    "\n",
    "    notes.append(soup.find(\"div\",attrs={'v-uib-tooltip':'IMDB'}).find(\"a\").get_text())\n",
    "\n",
    "    return(année,names,cast,genres,images,notes)\n",
    "    "
   ]
  },
  {
   "cell_type": "markdown",
   "metadata": {},
   "source": [
    "### NETFLIX"
   ]
  },
  {
   "cell_type": "code",
   "execution_count": 8,
   "metadata": {},
   "outputs": [],
   "source": [
    "driver.get(list_netflix[0])\n"
   ]
  },
  {
   "cell_type": "code",
   "execution_count": 11,
   "metadata": {},
   "outputs": [],
   "source": [
    "scroll()\n"
   ]
  },
  {
   "cell_type": "code",
   "execution_count": 19,
   "metadata": {},
   "outputs": [],
   "source": [
    "src = driver.page_source\n",
    "soup = BeautifulSoup(src, 'lxml')\n",
    "list_netflix_all_Link = link_page()"
   ]
  },
  {
   "cell_type": "code",
   "execution_count": 20,
   "metadata": {},
   "outputs": [],
   "source": [
    "list_netflix_serie = serie_film_link(\"serie\",list_netflix_all_Link)\n",
    "list_netflix_film = serie_film_link(\"film\",list_netflix_all_Link)"
   ]
  },
  {
   "cell_type": "code",
   "execution_count": 21,
   "metadata": {},
   "outputs": [
    {
     "name": "stdout",
     "output_type": "stream",
     "text": [
      "['/fr/serie/guillermo-del-toros-cabinet-of-curiosities', '/fr/serie/the-walking-dead', '/fr/serie/1899', '/fr/serie/manifest', '/fr/serie/the-crown', '/fr/serie/inside-man', '/fr/serie/attack-on-titan', '/fr/serie/warrior-nun', '/fr/serie/the-watcher', '/fr/serie/dahmer-monstre-lhistoire-de-jeffrey-dahmer', '/fr/serie/good-doctor-2017', '/fr/serie/les-combattantes', '/fr/serie/stranger-things', '/fr/serie/les-papillons-noirs', '/fr/serie/boku-no-hero-academia', '/fr/serie/blacklist', '/fr/serie/the-sandman', '/fr/serie/blockbuster', '/fr/serie/dcs-legends-of-tomorrow', '/fr/serie/the-office-us'] \n",
      "\n",
      "['/fr/film/enola-holmes-2', '/fr/film/all-quiet-on-the-western-front', '/fr/film/balle-perdue-2', '/fr/film/the-good-nurse', '/fr/film/premieres-vacances', '/fr/film/medieval', '/fr/film/the-school-for-good-and-evil', '/fr/film/once-upon-a-time-in-hollywood', '/fr/film/get-out', '/fr/film/retour-a-zombieland', '/fr/film/boulevard-de-la-mort', '/fr/film/spider-man-far-from-home', '/fr/film/slumberland', '/fr/film/forrest-gump', '/fr/film/furie-2019-0', '/fr/film/the-stranger-2022-1', '/fr/film/barbecue', '/fr/film/balle-perdue', '/fr/film/the-wonder', '/fr/film/enola-holmes']\n",
      "702\n",
      "1268\n"
     ]
    }
   ],
   "source": [
    "print(list_netflix_serie[0:20], '\\n')\n",
    "print(list_netflix_film[0:20])\n",
    "print(len(list_netflix_serie))\n",
    "print(len(list_netflix_film))"
   ]
  },
  {
   "cell_type": "code",
   "execution_count": 35,
   "metadata": {},
   "outputs": [],
   "source": [
    "i=[]\n",
    "for link in list_netflix_film[0:20]:\n",
    "    i.append((Scrap_page(link)))"
   ]
  },
  {
   "cell_type": "code",
   "execution_count": 36,
   "metadata": {},
   "outputs": [
    {
     "data": {
      "text/html": [
       "<div>\n",
       "<style scoped>\n",
       "    .dataframe tbody tr th:only-of-type {\n",
       "        vertical-align: middle;\n",
       "    }\n",
       "\n",
       "    .dataframe tbody tr th {\n",
       "        vertical-align: top;\n",
       "    }\n",
       "\n",
       "    .dataframe thead th {\n",
       "        text-align: right;\n",
       "    }\n",
       "</style>\n",
       "<table border=\"1\" class=\"dataframe\">\n",
       "  <thead>\n",
       "    <tr style=\"text-align: right;\">\n",
       "      <th></th>\n",
       "      <th>0</th>\n",
       "      <th>1</th>\n",
       "      <th>2</th>\n",
       "      <th>3</th>\n",
       "      <th>4</th>\n",
       "      <th>5</th>\n",
       "    </tr>\n",
       "  </thead>\n",
       "  <tbody>\n",
       "    <tr>\n",
       "      <th>0</th>\n",
       "      <td>[2022]</td>\n",
       "      <td>[ Enola Holmes 2 ]</td>\n",
       "      <td>[[ Millie Bobby Brown ,  Henry Cavill ,  Louis...</td>\n",
       "      <td>[[Mystère &amp; Thriller , Crime &amp; Thriller , Dram...</td>\n",
       "      <td>[data:image/gif;base64,R0lGODlhAQABAAAAACH5BAE...</td>\n",
       "      <td>[ 6.8 (47k) ]</td>\n",
       "    </tr>\n",
       "    <tr>\n",
       "      <th>1</th>\n",
       "      <td>[2022]</td>\n",
       "      <td>[ À l'ouest rien de nouveau ]</td>\n",
       "      <td>[[ Felix Kammerer ,  Albrecht Schuch ,  Aaron ...</td>\n",
       "      <td>[[Film de guerre , Drame , Action &amp; Aventure ,...</td>\n",
       "      <td>[data:image/gif;base64,R0lGODlhAQABAAAAACH5BAE...</td>\n",
       "      <td>[ 7.9 (66k) ]</td>\n",
       "    </tr>\n",
       "    <tr>\n",
       "      <th>2</th>\n",
       "      <td>[2022]</td>\n",
       "      <td>[ Balle perdue 2 ]</td>\n",
       "      <td>[[ Alban Lenoir ,  Stéfi Celma ,  Pascale Arbi...</td>\n",
       "      <td>[[Drame , Mystère &amp; Thriller , Action &amp; Aventu...</td>\n",
       "      <td>[data:image/gif;base64,R0lGODlhAQABAAAAACH5BAE...</td>\n",
       "      <td>[ 6.3 (1k) ]</td>\n",
       "    </tr>\n",
       "    <tr>\n",
       "      <th>3</th>\n",
       "      <td>[2022]</td>\n",
       "      <td>[ The Good Nurse ]</td>\n",
       "      <td>[[ Jessica Chastain ,  Eddie Redmayne ,  Noah ...</td>\n",
       "      <td>[[Drame , Crime &amp; Thriller , Mystère &amp; Thrille...</td>\n",
       "      <td>[data:image/gif;base64,R0lGODlhAQABAAAAACH5BAE...</td>\n",
       "      <td>[ 6.8 (40k) ]</td>\n",
       "    </tr>\n",
       "    <tr>\n",
       "      <th>4</th>\n",
       "      <td>[2018]</td>\n",
       "      <td>[ Premières vacances ]</td>\n",
       "      <td>[[ Camille Chamoux ,  Jonathan Cohen ,  Camill...</td>\n",
       "      <td>[[Comédie , Made in Europe ,  Patrick Cassir ]]</td>\n",
       "      <td>[data:image/gif;base64,R0lGODlhAQABAAAAACH5BAE...</td>\n",
       "      <td>[ 5.9 (1k) ]</td>\n",
       "    </tr>\n",
       "    <tr>\n",
       "      <th>5</th>\n",
       "      <td>[2022]</td>\n",
       "      <td>[ Medieval ]</td>\n",
       "      <td>[[ Ben Foster ,  Sophie Lowe ,  Michael Caine ...</td>\n",
       "      <td>[[Action &amp; Aventure , Drame , Histoire , Film ...</td>\n",
       "      <td>[data:image/gif;base64,R0lGODlhAQABAAAAACH5BAE...</td>\n",
       "      <td>[ 5.9 (4k) ]</td>\n",
       "    </tr>\n",
       "    <tr>\n",
       "      <th>6</th>\n",
       "      <td>[2022]</td>\n",
       "      <td>[ L'École du Bien et du Mal ]</td>\n",
       "      <td>[[ Sofia Wylie ,  Sophia Anne Caruso ,  Kerry ...</td>\n",
       "      <td>[[Action &amp; Aventure , Comédie , Drame , Fantas...</td>\n",
       "      <td>[data:image/gif;base64,R0lGODlhAQABAAAAACH5BAE...</td>\n",
       "      <td>[ 5.8 (22k) ]</td>\n",
       "    </tr>\n",
       "    <tr>\n",
       "      <th>7</th>\n",
       "      <td>[2019]</td>\n",
       "      <td>[ Once Upon a Time… in Hollywood ]</td>\n",
       "      <td>[[ Leonardo DiCaprio ,  Brad Pitt ,  Margot Ro...</td>\n",
       "      <td>[[Mystère &amp; Thriller , Comédie , Drame ,  Quen...</td>\n",
       "      <td>[data:image/gif;base64,R0lGODlhAQABAAAAACH5BAE...</td>\n",
       "      <td>[ 7.6 (729k) ]</td>\n",
       "    </tr>\n",
       "    <tr>\n",
       "      <th>8</th>\n",
       "      <td>[2017]</td>\n",
       "      <td>[ Get Out ]</td>\n",
       "      <td>[[ Daniel Kaluuya ,  Allison Williams ,  Cathe...</td>\n",
       "      <td>[[Mystère &amp; Thriller , Horreur ,  Jordan Peele ]]</td>\n",
       "      <td>[data:image/gif;base64,R0lGODlhAQABAAAAACH5BAE...</td>\n",
       "      <td>[ 7.7 (605k) ]</td>\n",
       "    </tr>\n",
       "    <tr>\n",
       "      <th>9</th>\n",
       "      <td>[2019]</td>\n",
       "      <td>[ Retour à Zombieland ]</td>\n",
       "      <td>[[ Woody Harrelson ,  Jesse Eisenberg ,  Emma ...</td>\n",
       "      <td>[[Horreur , Action &amp; Aventure , Comédie ,  Rub...</td>\n",
       "      <td>[data:image/gif;base64,R0lGODlhAQABAAAAACH5BAE...</td>\n",
       "      <td>[ 6.7 (180k) ]</td>\n",
       "    </tr>\n",
       "    <tr>\n",
       "      <th>10</th>\n",
       "      <td>[2007]</td>\n",
       "      <td>[ Boulevard de la mort ]</td>\n",
       "      <td>[[ Kurt Russell ,  Zoë Bell ,  Rosario Dawson ...</td>\n",
       "      <td>[[Action &amp; Aventure , Mystère &amp; Thriller ,  Qu...</td>\n",
       "      <td>[data:image/gif;base64,R0lGODlhAQABAAAAACH5BAE...</td>\n",
       "      <td>[ 7.0 (292k) ]</td>\n",
       "    </tr>\n",
       "    <tr>\n",
       "      <th>11</th>\n",
       "      <td>[2019]</td>\n",
       "      <td>[ Spider-Man : Far From Home ]</td>\n",
       "      <td>[[ Tom Holland ,  Samuel L. Jackson ,  Jake Gy...</td>\n",
       "      <td>[[Action &amp; Aventure , Science-Fiction , Comédi...</td>\n",
       "      <td>[data:image/gif;base64,R0lGODlhAQABAAAAACH5BAE...</td>\n",
       "      <td>[ 7.4 (489k) ]</td>\n",
       "    </tr>\n",
       "    <tr>\n",
       "      <th>12</th>\n",
       "      <td>[2022]</td>\n",
       "      <td>[ La Petite Nemo et le Monde des rêves ]</td>\n",
       "      <td>[[ Jason Momoa ,  Marlow Barkley ,  Chris O'Do...</td>\n",
       "      <td>[[Drame , Fantastique , Pour enfants , Science...</td>\n",
       "      <td>[data:image/gif;base64,R0lGODlhAQABAAAAACH5BAE...</td>\n",
       "      <td>[ 6.7 (5k) ]</td>\n",
       "    </tr>\n",
       "    <tr>\n",
       "      <th>13</th>\n",
       "      <td>[1994]</td>\n",
       "      <td>[ Forrest Gump ]</td>\n",
       "      <td>[[ Tom Hanks ,  Robin Wright ,  Gary Sinise , ...</td>\n",
       "      <td>[[Drame , Comédie Romantique ,  Robert Zemecki...</td>\n",
       "      <td>[https://images.justwatch.com/poster/175599631...</td>\n",
       "      <td>[ 8.8 (2m) ]</td>\n",
       "    </tr>\n",
       "    <tr>\n",
       "      <th>14</th>\n",
       "      <td>[2019]</td>\n",
       "      <td>[ Furie ]</td>\n",
       "      <td>[[ Adama Niane ,  Stéphane Caillard ,  Paul Ha...</td>\n",
       "      <td>[[Mystère &amp; Thriller , Drame , Horreur ,  Oliv...</td>\n",
       "      <td>[https://images.justwatch.com/poster/207654416...</td>\n",
       "      <td>[ 5.7 (2k) ]</td>\n",
       "    </tr>\n",
       "    <tr>\n",
       "      <th>15</th>\n",
       "      <td>[2022]</td>\n",
       "      <td>[ The Stranger ]</td>\n",
       "      <td>[[ Joel Edgerton ,  Sean Harris ,  Jada Albert...</td>\n",
       "      <td>[[Drame , Mystère &amp; Thriller , Crime &amp; Thrille...</td>\n",
       "      <td>[https://images.justwatch.com/poster/301133679...</td>\n",
       "      <td>[ 6.6 (11k) ]</td>\n",
       "    </tr>\n",
       "    <tr>\n",
       "      <th>16</th>\n",
       "      <td>[2014]</td>\n",
       "      <td>[ Barbecue ]</td>\n",
       "      <td>[[ Lambert Wilson ,  Franck Dubosc ,  Florence...</td>\n",
       "      <td>[[Comédie , Made in Europe ,  Eric Lavaine ]]</td>\n",
       "      <td>[https://images.justwatch.com/poster/88477394/...</td>\n",
       "      <td>[ 6.1 (2k) ]</td>\n",
       "    </tr>\n",
       "    <tr>\n",
       "      <th>17</th>\n",
       "      <td>[2020]</td>\n",
       "      <td>[ Balle perdue ]</td>\n",
       "      <td>[[ Alban Lenoir ,  Nicolas Duvauchelle ,  Rod ...</td>\n",
       "      <td>[[Mystère &amp; Thriller , Action &amp; Aventure , Cri...</td>\n",
       "      <td>[data:image/gif;base64,R0lGODlhAQABAAAAACH5BAE...</td>\n",
       "      <td>[ 6.3 (11k) ]</td>\n",
       "    </tr>\n",
       "    <tr>\n",
       "      <th>18</th>\n",
       "      <td>[2022]</td>\n",
       "      <td>[ The Wonder ]</td>\n",
       "      <td>[[ Florence Pugh ,  Kíla Lord Cassidy ,  Tom B...</td>\n",
       "      <td>[[Drame , Mystère &amp; Thriller ,  Sebastián Leli...</td>\n",
       "      <td>[https://images.justwatch.com/poster/300931165...</td>\n",
       "      <td>[ 6.7 (9k) ]</td>\n",
       "    </tr>\n",
       "    <tr>\n",
       "      <th>19</th>\n",
       "      <td>[2020]</td>\n",
       "      <td>[ Enola Holmes ]</td>\n",
       "      <td>[[ Millie Bobby Brown ,  Henry Cavill ,  Sam C...</td>\n",
       "      <td>[[Mystère &amp; Thriller , Comédie , Crime &amp; Thril...</td>\n",
       "      <td>[https://images.justwatch.com/poster/209630608...</td>\n",
       "      <td>[ 6.6 (186k) ]</td>\n",
       "    </tr>\n",
       "  </tbody>\n",
       "</table>\n",
       "</div>"
      ],
      "text/plain": [
       "         0                                         1  \\\n",
       "0   [2022]                        [ Enola Holmes 2 ]   \n",
       "1   [2022]             [ À l'ouest rien de nouveau ]   \n",
       "2   [2022]                        [ Balle perdue 2 ]   \n",
       "3   [2022]                        [ The Good Nurse ]   \n",
       "4   [2018]                    [ Premières vacances ]   \n",
       "5   [2022]                              [ Medieval ]   \n",
       "6   [2022]             [ L'École du Bien et du Mal ]   \n",
       "7   [2019]        [ Once Upon a Time… in Hollywood ]   \n",
       "8   [2017]                               [ Get Out ]   \n",
       "9   [2019]                   [ Retour à Zombieland ]   \n",
       "10  [2007]                  [ Boulevard de la mort ]   \n",
       "11  [2019]            [ Spider-Man : Far From Home ]   \n",
       "12  [2022]  [ La Petite Nemo et le Monde des rêves ]   \n",
       "13  [1994]                          [ Forrest Gump ]   \n",
       "14  [2019]                                 [ Furie ]   \n",
       "15  [2022]                          [ The Stranger ]   \n",
       "16  [2014]                              [ Barbecue ]   \n",
       "17  [2020]                          [ Balle perdue ]   \n",
       "18  [2022]                            [ The Wonder ]   \n",
       "19  [2020]                          [ Enola Holmes ]   \n",
       "\n",
       "                                                    2  \\\n",
       "0   [[ Millie Bobby Brown ,  Henry Cavill ,  Louis...   \n",
       "1   [[ Felix Kammerer ,  Albrecht Schuch ,  Aaron ...   \n",
       "2   [[ Alban Lenoir ,  Stéfi Celma ,  Pascale Arbi...   \n",
       "3   [[ Jessica Chastain ,  Eddie Redmayne ,  Noah ...   \n",
       "4   [[ Camille Chamoux ,  Jonathan Cohen ,  Camill...   \n",
       "5   [[ Ben Foster ,  Sophie Lowe ,  Michael Caine ...   \n",
       "6   [[ Sofia Wylie ,  Sophia Anne Caruso ,  Kerry ...   \n",
       "7   [[ Leonardo DiCaprio ,  Brad Pitt ,  Margot Ro...   \n",
       "8   [[ Daniel Kaluuya ,  Allison Williams ,  Cathe...   \n",
       "9   [[ Woody Harrelson ,  Jesse Eisenberg ,  Emma ...   \n",
       "10  [[ Kurt Russell ,  Zoë Bell ,  Rosario Dawson ...   \n",
       "11  [[ Tom Holland ,  Samuel L. Jackson ,  Jake Gy...   \n",
       "12  [[ Jason Momoa ,  Marlow Barkley ,  Chris O'Do...   \n",
       "13  [[ Tom Hanks ,  Robin Wright ,  Gary Sinise , ...   \n",
       "14  [[ Adama Niane ,  Stéphane Caillard ,  Paul Ha...   \n",
       "15  [[ Joel Edgerton ,  Sean Harris ,  Jada Albert...   \n",
       "16  [[ Lambert Wilson ,  Franck Dubosc ,  Florence...   \n",
       "17  [[ Alban Lenoir ,  Nicolas Duvauchelle ,  Rod ...   \n",
       "18  [[ Florence Pugh ,  Kíla Lord Cassidy ,  Tom B...   \n",
       "19  [[ Millie Bobby Brown ,  Henry Cavill ,  Sam C...   \n",
       "\n",
       "                                                    3  \\\n",
       "0   [[Mystère & Thriller , Crime & Thriller , Dram...   \n",
       "1   [[Film de guerre , Drame , Action & Aventure ,...   \n",
       "2   [[Drame , Mystère & Thriller , Action & Aventu...   \n",
       "3   [[Drame , Crime & Thriller , Mystère & Thrille...   \n",
       "4     [[Comédie , Made in Europe ,  Patrick Cassir ]]   \n",
       "5   [[Action & Aventure , Drame , Histoire , Film ...   \n",
       "6   [[Action & Aventure , Comédie , Drame , Fantas...   \n",
       "7   [[Mystère & Thriller , Comédie , Drame ,  Quen...   \n",
       "8   [[Mystère & Thriller , Horreur ,  Jordan Peele ]]   \n",
       "9   [[Horreur , Action & Aventure , Comédie ,  Rub...   \n",
       "10  [[Action & Aventure , Mystère & Thriller ,  Qu...   \n",
       "11  [[Action & Aventure , Science-Fiction , Comédi...   \n",
       "12  [[Drame , Fantastique , Pour enfants , Science...   \n",
       "13  [[Drame , Comédie Romantique ,  Robert Zemecki...   \n",
       "14  [[Mystère & Thriller , Drame , Horreur ,  Oliv...   \n",
       "15  [[Drame , Mystère & Thriller , Crime & Thrille...   \n",
       "16      [[Comédie , Made in Europe ,  Eric Lavaine ]]   \n",
       "17  [[Mystère & Thriller , Action & Aventure , Cri...   \n",
       "18  [[Drame , Mystère & Thriller ,  Sebastián Leli...   \n",
       "19  [[Mystère & Thriller , Comédie , Crime & Thril...   \n",
       "\n",
       "                                                    4               5  \n",
       "0   [data:image/gif;base64,R0lGODlhAQABAAAAACH5BAE...   [ 6.8 (47k) ]  \n",
       "1   [data:image/gif;base64,R0lGODlhAQABAAAAACH5BAE...   [ 7.9 (66k) ]  \n",
       "2   [data:image/gif;base64,R0lGODlhAQABAAAAACH5BAE...    [ 6.3 (1k) ]  \n",
       "3   [data:image/gif;base64,R0lGODlhAQABAAAAACH5BAE...   [ 6.8 (40k) ]  \n",
       "4   [data:image/gif;base64,R0lGODlhAQABAAAAACH5BAE...    [ 5.9 (1k) ]  \n",
       "5   [data:image/gif;base64,R0lGODlhAQABAAAAACH5BAE...    [ 5.9 (4k) ]  \n",
       "6   [data:image/gif;base64,R0lGODlhAQABAAAAACH5BAE...   [ 5.8 (22k) ]  \n",
       "7   [data:image/gif;base64,R0lGODlhAQABAAAAACH5BAE...  [ 7.6 (729k) ]  \n",
       "8   [data:image/gif;base64,R0lGODlhAQABAAAAACH5BAE...  [ 7.7 (605k) ]  \n",
       "9   [data:image/gif;base64,R0lGODlhAQABAAAAACH5BAE...  [ 6.7 (180k) ]  \n",
       "10  [data:image/gif;base64,R0lGODlhAQABAAAAACH5BAE...  [ 7.0 (292k) ]  \n",
       "11  [data:image/gif;base64,R0lGODlhAQABAAAAACH5BAE...  [ 7.4 (489k) ]  \n",
       "12  [data:image/gif;base64,R0lGODlhAQABAAAAACH5BAE...    [ 6.7 (5k) ]  \n",
       "13  [https://images.justwatch.com/poster/175599631...    [ 8.8 (2m) ]  \n",
       "14  [https://images.justwatch.com/poster/207654416...    [ 5.7 (2k) ]  \n",
       "15  [https://images.justwatch.com/poster/301133679...   [ 6.6 (11k) ]  \n",
       "16  [https://images.justwatch.com/poster/88477394/...    [ 6.1 (2k) ]  \n",
       "17  [data:image/gif;base64,R0lGODlhAQABAAAAACH5BAE...   [ 6.3 (11k) ]  \n",
       "18  [https://images.justwatch.com/poster/300931165...    [ 6.7 (9k) ]  \n",
       "19  [https://images.justwatch.com/poster/209630608...  [ 6.6 (186k) ]  "
      ]
     },
     "execution_count": 36,
     "metadata": {},
     "output_type": "execute_result"
    }
   ],
   "source": [
    "pd.DataFrame(i)"
   ]
  },
  {
   "cell_type": "markdown",
   "metadata": {},
   "source": [
    "### AMAZON"
   ]
  },
  {
   "cell_type": "code",
   "execution_count": 28,
   "metadata": {},
   "outputs": [],
   "source": [
    "driver.get(list_amazon[0])\n",
    "src = driver.page_source\n",
    "soup = BeautifulSoup(src, 'lxml')"
   ]
  },
  {
   "cell_type": "code",
   "execution_count": 29,
   "metadata": {},
   "outputs": [],
   "source": [
    "scroll()\n",
    "list_amazon_all_Link = link_page()"
   ]
  },
  {
   "cell_type": "code",
   "execution_count": 30,
   "metadata": {},
   "outputs": [],
   "source": [
    "list_amazon_serie = serie_film_link(\"serie\", list_amazon_all_Link)\n",
    "list_amazon_film = serie_film_link(\"film\", list_amazon_all_Link)"
   ]
  },
  {
   "cell_type": "code",
   "execution_count": 31,
   "metadata": {},
   "outputs": [
    {
     "name": "stdout",
     "output_type": "stream",
     "text": [
      "['/fr/serie/house-of-the-dragon', '/fr/serie/the-peripheral', '/fr/serie/the-handmaids-tale', '/fr/serie/game-of-thrones', '/fr/serie/the-lord-of-the-rings', '/fr/serie/the-white-lotus', '/fr/serie/doctor-who', '/fr/serie/attack-on-titan', '/fr/serie/good-doctor-2017', '/fr/serie/the-boys', '/fr/serie/a-la-croisee-des-mondes', '/fr/serie/the-devils-hour', '/fr/serie/sherlock', '/fr/serie/legacies', '/fr/serie/ncis-enquetes-speciales', '/fr/serie/the-serpent-queen', '/fr/serie/the-office-us', '/fr/serie/chicago-fire', '/fr/serie/orelsan-montre-jamais-ca-a-personne', '/fr/serie/kamen-rider-black-sun'] \n",
      "\n",
      "['/fr/film/terrifier', '/fr/film/overdose', '/fr/film/vesper', '/fr/film/un-homme-en-colere', '/fr/film/heredite', '/fr/film/shining', '/fr/film/tu-ne-tueras-point', '/fr/film/interstellar', '/fr/film/le-seigneur-des-anneaux-i-la-communaute-de-lanneau', '/fr/film/parasite', '/fr/film/casino', '/fr/film/the-taste-of-others', '/fr/film/forrest-gump', '/fr/film/matrix', '/fr/film/un-jour-sans-fin', '/fr/film/mon-nom-est-personne', '/fr/film/john-wick', '/fr/film/enola-holmes-2', '/fr/film/all-quiet-on-the-western-front', '/fr/film/barbarian-2022']\n"
     ]
    }
   ],
   "source": [
    "print(list_amazon_serie[0:20], '\\n')\n",
    "print(list_amazon_film[0:20])"
   ]
  },
  {
   "cell_type": "markdown",
   "metadata": {},
   "source": [
    "### DISNEY PLUS"
   ]
  },
  {
   "cell_type": "code",
   "execution_count": 32,
   "metadata": {},
   "outputs": [],
   "source": [
    "str = \"https://www.justwatch.com\"+list_disney[0]\n",
    "driver.get(str)\n",
    "src = driver.page_source\n",
    "soup = BeautifulSoup(src, 'lxml')"
   ]
  },
  {
   "cell_type": "code",
   "execution_count": 33,
   "metadata": {},
   "outputs": [],
   "source": [
    "scroll()\n",
    "list_diney_all_Link = link_page()"
   ]
  },
  {
   "cell_type": "code",
   "execution_count": 34,
   "metadata": {},
   "outputs": [],
   "source": [
    "list_disney_serie = serie_film_link(\"serie\", list_diney_all_Link)\n",
    "list_disney_film = serie_film_link(\"film\", list_diney_all_Link)"
   ]
  },
  {
   "cell_type": "code",
   "execution_count": 35,
   "metadata": {},
   "outputs": [
    {
     "name": "stdout",
     "output_type": "stream",
     "text": [
      "['/fr/serie/andor', '/fr/serie/american-horror-story', '/fr/serie/the-bear', '/fr/serie/greys-anatomy', '/fr/serie/the-old-man', '/fr/serie/good-doctor-2017', '/fr/serie/tales-of-the-jedi', '/fr/serie/sherlock', '/fr/serie/she-hulk', '/fr/serie/zootopia', '/fr/serie/the-resident', '/fr/serie/malcolm', '/fr/serie/les-simpson', '/fr/serie/how-i-met-your-mother', '/fr/serie/hpi', '/fr/serie/miraculous-les-aventures-de-ladybug-et-chat-noir', '/fr/serie/9-1-1', '/fr/serie/reboot-2022', '/fr/serie/the-orville', '/fr/serie/9-1-1-lone-star'] \n",
      "\n",
      "['/fr/film/barbarian-2022', '/fr/film/avatar', '/fr/film/black-panther', '/fr/film/terminator-dark-fate', '/fr/film/malefique-le-pouvoir-du-mal', '/fr/film/les-figures-de-lombre', '/fr/film/werewolf-by-night', '/fr/film/oss-117-le-caire-nid-despions', '/fr/film/prey-2022', '/fr/film/letrange-noel-de-monsieur-jack', '/fr/film/disenchanted', '/fr/film/fight-club', '/fr/film/ford-v-ferrari', '/fr/film/kingsman-services-secrets', '/fr/film/enola-holmes-2', '/fr/film/all-quiet-on-the-western-front', '/fr/film/barbarian-2022', '/fr/film/harry-potter-a-lecole-des-sorciers', '/fr/film/terrifier']\n"
     ]
    }
   ],
   "source": [
    "print(list_disney_serie[0:20], '\\n')\n",
    "print(list_disney_film[0:20])"
   ]
  },
  {
   "cell_type": "markdown",
   "metadata": {},
   "source": [
    "### CANAL PLUS"
   ]
  },
  {
   "cell_type": "code",
   "execution_count": 8,
   "metadata": {},
   "outputs": [],
   "source": [
    "str = list_canal[0]\n",
    "driver.get(str)\n",
    "src = driver.page_source\n",
    "soup = BeautifulSoup(src, 'lxml')"
   ]
  },
  {
   "cell_type": "code",
   "execution_count": 9,
   "metadata": {},
   "outputs": [],
   "source": [
    "scroll()\n",
    "list_canal_all_Link = link_page()"
   ]
  },
  {
   "cell_type": "code",
   "execution_count": 11,
   "metadata": {},
   "outputs": [],
   "source": [
    "list_canal_serie = serie_film_link(\"serie\", list_canal_all_Link)\n",
    "list_canal_film = serie_film_link(\"film\", list_canal_all_Link)"
   ]
  },
  {
   "cell_type": "code",
   "execution_count": 12,
   "metadata": {},
   "outputs": [
    {
     "name": "stdout",
     "output_type": "stream",
     "text": [
      "['/fr/serie/house-of-the-dragon', '/fr/serie/the-walking-dead', '/fr/serie/the-handmaids-tale', '/fr/serie/manifest', '/fr/serie/game-of-thrones', '/fr/serie/the-white-lotus', '/fr/serie/la-brea', '/fr/serie/american-horror-story', '/fr/serie/westworld', '/fr/serie/a-la-croisee-des-mondes', '/fr/serie/stargate-sg-1', '/fr/serie/sherlock', '/fr/serie/ncis-enquetes-speciales', '/fr/serie/the-serpent-queen', '/fr/serie/chicago-fire', '/fr/serie/this-is-us', '/fr/serie/the-resident', '/fr/serie/le-flambeau-les-aventuriers-de-chupacabra', '/fr/serie/malcolm', '/fr/serie/desordres'] \n",
      "\n",
      "['/fr/film/the-batman', '/fr/film/fantastic-beasts-3', '/fr/film/barbaque', '/fr/film/spider-man-no-way-home', '/fr/film/the-kings-man-premiere-mission', '/fr/film/les-vedettes', '/fr/film/lost-city-of-d', '/fr/film/casino', '/fr/film/the-taste-of-others', '/fr/film/prisoners', '/fr/film/forrest-gump', '/fr/film/dune-2020', '/fr/film/nightmare-alley', '/fr/film/uncharted', '/fr/film/un-jour-sans-fin', '/fr/film/mon-nom-est-personne', '/fr/film/eternals', '/fr/film/enola-holmes-2', '/fr/film/all-quiet-on-the-western-front', '/fr/film/barbarian-2022']\n"
     ]
    }
   ],
   "source": [
    "print(list_canal_serie[0:20], '\\n')\n",
    "print(list_canal_film[0:20])"
   ]
  },
  {
   "cell_type": "markdown",
   "metadata": {},
   "source": [
    "### OCS"
   ]
  },
  {
   "cell_type": "code",
   "execution_count": 17,
   "metadata": {},
   "outputs": [],
   "source": [
    "driver.get(list_ocs[0])\n",
    "src = driver.page_source\n",
    "soup = BeautifulSoup(src, 'lxml')"
   ]
  },
  {
   "cell_type": "code",
   "execution_count": 18,
   "metadata": {},
   "outputs": [],
   "source": [
    "scroll()\n",
    "list_ocs_all_Link = link_page()"
   ]
  },
  {
   "cell_type": "code",
   "execution_count": 19,
   "metadata": {},
   "outputs": [],
   "source": [
    "list_ocs_serie = serie_film_link(\"serie\", list_ocs_all_Link)\n",
    "list_ocs_film = serie_film_link(\"film\", list_ocs_all_Link)"
   ]
  },
  {
   "cell_type": "code",
   "execution_count": 20,
   "metadata": {},
   "outputs": [
    {
     "name": "stdout",
     "output_type": "stream",
     "text": [
      "['/fr/serie/house-of-the-dragon', '/fr/serie/the-walking-dead', '/fr/serie/the-handmaids-tale', '/fr/serie/game-of-thrones', '/fr/serie/the-white-lotus', '/fr/serie/westworld', '/fr/serie/a-la-croisee-des-mondes', '/fr/serie/true-detective', '/fr/serie/euphoria', '/fr/serie/the-nevers', '/fr/serie/avenue-5', '/fr/serie/the-wire', '/fr/serie/succession', '/fr/serie/chernobyl', '/fr/serie/atlanta', '/fr/serie/the-sopranos', '/fr/serie/freres-darmes', '/fr/serie/banshee', '/fr/serie/rome', '/fr/serie/watchmen'] \n",
      "\n",
      "['/fr/film/les-vedettes', '/fr/film/prisoners', '/fr/film/morbius', '/fr/film/twilight-chapitre-1-fascination', '/fr/film/les-crevettes-pailletees', '/fr/film/s-o-s-fantomes-lheritage', '/fr/film/fargo', '/fr/film/s-o-s-fantomes', '/fr/film/la-chasse', '/fr/film/in-the-dark-dont-breathe', '/fr/film/the-hunt', '/fr/film/zodiac', '/fr/film/un-amour-impossible', '/fr/film/mandibules', '/fr/film/la-famille-addams-2019', '/fr/film/un-apres-midi-de-chien', '/fr/film/problemos', '/fr/film/lion', '/fr/film/pleasure-2021', '/fr/film/american-nightmare-4-les-origines']\n"
     ]
    }
   ],
   "source": [
    "print(list_ocs_serie[0:20], '\\n')\n",
    "print(list_ocs_film[0:20])"
   ]
  },
  {
   "cell_type": "markdown",
   "metadata": {},
   "source": [
    "### WAKANIM"
   ]
  },
  {
   "cell_type": "code",
   "execution_count": 23,
   "metadata": {},
   "outputs": [],
   "source": [
    "str = \"https://www.justwatch.com\"+list_wakanim[0]\n",
    "driver.get(str)\n",
    "src = driver.page_source\n",
    "soup = BeautifulSoup(src, 'lxml')"
   ]
  },
  {
   "cell_type": "code",
   "execution_count": 24,
   "metadata": {},
   "outputs": [],
   "source": [
    "scroll()\n",
    "list_wakanim_all_Link = link_page()"
   ]
  },
  {
   "cell_type": "code",
   "execution_count": 25,
   "metadata": {},
   "outputs": [],
   "source": [
    "list_wakanim_serie = serie_film_link(\"serie\", list_wakanim_all_Link)\n",
    "list_wakanim_film = serie_film_link(\"film\", list_wakanim_all_Link)"
   ]
  },
  {
   "cell_type": "code",
   "execution_count": 26,
   "metadata": {},
   "outputs": [
    {
     "name": "stdout",
     "output_type": "stream",
     "text": [
      "['/fr/serie/attack-on-titan', '/fr/serie/demon-slayer-kimetsu-no-yaiba', '/fr/serie/jujutsu-kaisen', '/fr/serie/sword-art-online', '/fr/serie/haikyu', '/fr/serie/the-promised-neverland', '/fr/serie/made-in-abyss', '/fr/serie/fruits-basket', '/fr/serie/tokyo-ghoul', '/fr/serie/log-horizon', '/fr/serie/your-lie-in-april', '/fr/serie/danmachi-familia-myth', '/fr/serie/erased', '/fr/serie/enen-no-shouboutai-fire-force', '/fr/serie/mushoku-tensei-jobless-reincarnation-2021', '/fr/serie/ranking-of-kings', '/fr/serie/mo-wang-xue-yuan-nobu-shi-he-zhe-shi-shang-zui-qiang-nomo-wang-noshi-zu-zhuan-sheng-shitezi-sun-tachinoxue-xiao-hetong-u', '/fr/serie/kaguya-sama-love-is-war', '/fr/serie/plunderer', '/fr/serie/monogatari'] \n",
      "\n",
      "['/fr/film/enola-holmes-2', '/fr/film/all-quiet-on-the-western-front', '/fr/film/barbarian-2022', '/fr/film/harry-potter-a-lecole-des-sorciers', '/fr/film/terrifier']\n"
     ]
    }
   ],
   "source": [
    "print(list_wakanim_serie[0:20], '\\n')\n",
    "print(list_wakanim_film[0:20])"
   ]
  }
 ],
 "metadata": {
  "kernelspec": {
   "display_name": "Python 3 (ipykernel)",
   "language": "python",
   "name": "python3"
  },
  "language_info": {
   "codemirror_mode": {
    "name": "ipython",
    "version": 3
   },
   "file_extension": ".py",
   "mimetype": "text/x-python",
   "name": "python",
   "nbconvert_exporter": "python",
   "pygments_lexer": "ipython3",
   "version": "3.9.12"
  },
  "vscode": {
   "interpreter": {
    "hash": "e7cb1b9ae4d417fedf7f40a8eec98f7cfbd359e096bd857395a915f4609834ce"
   }
  }
 },
 "nbformat": 4,
 "nbformat_minor": 2
}
