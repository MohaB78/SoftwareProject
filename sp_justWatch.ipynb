{
 "cells": [
  {
   "cell_type": "markdown",
   "metadata": {},
   "source": [
    "### Scrapping JustWatch"
   ]
  },
  {
   "cell_type": "code",
   "execution_count": 2,
   "metadata": {},
   "outputs": [],
   "source": [
    "import pandas as pd\n",
    "import numpy as np\n",
    "from bs4 import BeautifulSoup\n",
    "import re \n",
    "import requests\n",
    "from selenium import webdriver\n",
    "from selenium.webdriver.common.by import By\n",
    "from selenium.webdriver.common.keys import Keys\n",
    "import time"
   ]
  },
  {
   "cell_type": "code",
   "execution_count": 14,
   "metadata": {},
   "outputs": [],
   "source": [
    "driver_path = r\"/Users/kiouloueleonor/Documents/Ecole/A4/python for data/TD/TP7_selenium/chromedriver\""
   ]
  },
  {
   "cell_type": "code",
   "execution_count": 21,
   "metadata": {},
   "outputs": [],
   "source": [
    "driver = webdriver.Chrome(executable_path=driver_path)\n",
    "driver.get(\"https://www.justwatch.com/fr\")\n",
    "src = driver.page_source\n",
    "soup = BeautifulSoup(src, 'lxml')"
   ]
  },
  {
   "cell_type": "code",
   "execution_count": 22,
   "metadata": {},
   "outputs": [
    {
     "name": "stdout",
     "output_type": "stream",
     "text": [
      "['https://www.justwatch.com/fr/plateforme/netflix', 'https://www.justwatch.com/fr/plateforme/netflix/nouveau', '/fr/plateforme/netflix', '/fr/plateforme/netflix-basic-with-ads', '/fr/plateforme/netflix', '/fr/plateforme/netflix/nouveau'] \n",
      "\n",
      "['https://www.justwatch.com/fr/plateforme/amazon-prime-video', '/fr/plateforme/amazon-prime-video', '/fr/plateforme/amazon-prime-video', '/fr/plateforme/amazon-prime-video/nouveau'] \n",
      "\n",
      "['/fr/plateforme/disney-plus', '/fr/plateforme/disney-plus', '/fr/plateforme/disney-plus/nouveau'] \n",
      "\n",
      "['https://www.justwatch.com/fr/plateforme/canal', '/fr/plateforme/canal', '/fr/plateforme/canal-vod', '/fr/plateforme/canal-sport', '/fr/plateforme/canal', '/fr/plateforme/canal/nouveau'] \n",
      "\n",
      "['https://www.justwatch.com/fr/plateforme/ocs-go', 'https://www.justwatch.com/fr/plateforme/ocs-go/nouveau', '/fr/plateforme/ocs-go', '/fr/plateforme/ocs-go', '/fr/plateforme/ocs-go/nouveau'] \n",
      "\n",
      "['/fr/plateforme/wakanim'] \n",
      "\n"
     ]
    }
   ],
   "source": [
    "# list of all the link\n",
    "previous_list = []\n",
    "for a in soup.find_all('a', href=True):\n",
    "    previous_list.append(a['href'])\n",
    "\n",
    "# only link for the different platform\n",
    "list_netflix = []\n",
    "list_amazon = []\n",
    "list_disney = []\n",
    "list_canal = []\n",
    "list_ocs = []\n",
    "list_wakanim = []\n",
    "for j in previous_list:\n",
    "    if \"/fr/plateforme/netflix\" in j:\n",
    "        list_netflix.append(j)\n",
    "    if \"/fr/plateforme/amazon-prime-video\" in j:\n",
    "        list_amazon.append(j)\n",
    "    if \"/fr/plateforme/disney-plus\" in j:\n",
    "        list_disney.append(j) \n",
    "    if \"/fr/plateforme/canal\" in j:\n",
    "        list_canal.append(j)\n",
    "    if \"/fr/plateforme/ocs-go\" in j:\n",
    "        list_ocs.append(j)\n",
    "    if \"/fr/plateforme/wakanim\" in j:\n",
    "        list_wakanim.append(j)\n",
    "print (list_netflix,'\\n')\n",
    "print (list_amazon, '\\n')\n",
    "print (list_disney, '\\n')\n",
    "print (list_canal, '\\n')\n",
    "print (list_ocs, '\\n')\n",
    "print (list_wakanim, '\\n')"
   ]
  },
  {
   "cell_type": "code",
   "execution_count": null,
   "metadata": {},
   "outputs": [],
   "source": [
    "def scroll ():\n",
    "    start = time.time()\n",
    " \n",
    "    # will be used in the while loop\n",
    "    initialScroll = 0\n",
    "    finalScroll = 10000\n",
    " \n",
    "    while True:\n",
    "        driver.execute_script(f\"window.scrollTo({initialScroll},{finalScroll})\")\n",
    "        # this command scrolls the window starting from\n",
    "        # the pixel value stored in the initialScroll\n",
    "        # variable to the pixel value stored at the\n",
    "        # finalScroll variable\n",
    "        initialScroll = finalScroll\n",
    "        finalScroll += 1000\n",
    " \n",
    "        # we will stop the script for 3 seconds so that\n",
    "        # the data can load\n",
    "        time.sleep(1)\n",
    "        # You can change it as per your needs and internet speed\n",
    " \n",
    "        end = time.time()\n",
    " \n",
    "        # We will scroll for 20 seconds.\n",
    "        # You can change it as per your needs and internet speed\n",
    "        if round(end - start) > 130:\n",
    "            break"
   ]
  },
  {
   "cell_type": "code",
   "execution_count": 6,
   "metadata": {},
   "outputs": [],
   "source": [
    "def link_page():\n",
    "    list_link = []\n",
    "    for a in soup.find_all('a', href=True):\n",
    "        list_link.append(a['href'])\n",
    "    return list_link"
   ]
  },
  {
   "cell_type": "code",
   "execution_count": 7,
   "metadata": {},
   "outputs": [],
   "source": [
    "def serie_film_link(content, platform):\n",
    "    list_rd = []\n",
    "    str = \"/fr/\"+content+\"/\"\n",
    "    for j in platform:\n",
    "        if str in j:\n",
    "            list_rd.append(j)\n",
    "    return list_rd"
   ]
  },
  {
   "cell_type": "markdown",
   "metadata": {},
   "source": [
    "### NETFLIX"
   ]
  },
  {
   "cell_type": "code",
   "execution_count": 23,
   "metadata": {},
   "outputs": [],
   "source": [
    "driver.get(list_netflix[0])\n",
    "src = driver.page_source\n",
    "soup = BeautifulSoup(src, 'lxml')"
   ]
  },
  {
   "cell_type": "code",
   "execution_count": 24,
   "metadata": {},
   "outputs": [],
   "source": [
    "#scroll()\n",
    "list_netflix_all_Link = link_page()"
   ]
  },
  {
   "cell_type": "code",
   "execution_count": 25,
   "metadata": {},
   "outputs": [],
   "source": [
    "list_netflix_serie = serie_film_link(\"serie\",list_netflix_all_Link)\n",
    "list_netflix_film = serie_film_link(\"film\",list_netflix_all_Link)"
   ]
  },
  {
   "cell_type": "code",
   "execution_count": 27,
   "metadata": {},
   "outputs": [
    {
     "name": "stdout",
     "output_type": "stream",
     "text": [
      "['/fr/serie/guillermo-del-toros-cabinet-of-curiosities', '/fr/serie/the-walking-dead', '/fr/serie/manifest', '/fr/serie/1899', '/fr/serie/the-crown', '/fr/serie/inside-man', '/fr/serie/attack-on-titan', '/fr/serie/the-watcher', '/fr/serie/warrior-nun', '/fr/serie/dahmer-monstre-lhistoire-de-jeffrey-dahmer', '/fr/serie/good-doctor-2017', '/fr/serie/les-combattantes', '/fr/serie/stranger-things', '/fr/serie/les-papillons-noirs', '/fr/serie/boku-no-hero-academia', '/fr/serie/blacklist', '/fr/serie/the-sandman', '/fr/serie/blockbuster', '/fr/serie/dcs-legends-of-tomorrow', '/fr/serie/the-office-us'] \n",
      "\n",
      "['/fr/film/enola-holmes-2', '/fr/film/all-quiet-on-the-western-front', '/fr/film/balle-perdue-2', '/fr/film/the-good-nurse', '/fr/film/the-school-for-good-and-evil', '/fr/film/premieres-vacances', '/fr/film/medieval', '/fr/film/once-upon-a-time-in-hollywood', '/fr/film/get-out', '/fr/film/retour-a-zombieland', '/fr/film/boulevard-de-la-mort', '/fr/film/spider-man-far-from-home', '/fr/film/the-stranger-2022-1', '/fr/film/barbecue', '/fr/film/furie-2019-0', '/fr/film/enola-holmes-2', '/fr/film/all-quiet-on-the-western-front', '/fr/film/barbarian-2022', '/fr/film/harry-potter-a-lecole-des-sorciers', '/fr/film/terrifier']\n"
     ]
    }
   ],
   "source": [
    "print(list_netflix_serie[0:20], '\\n')\n",
    "print(list_netflix_film[0:20])"
   ]
  },
  {
   "cell_type": "markdown",
   "metadata": {},
   "source": [
    "### AMAZON"
   ]
  },
  {
   "cell_type": "code",
   "execution_count": 28,
   "metadata": {},
   "outputs": [],
   "source": [
    "driver.get(list_amazon[0])\n",
    "src = driver.page_source\n",
    "soup = BeautifulSoup(src, 'lxml')"
   ]
  },
  {
   "cell_type": "code",
   "execution_count": 29,
   "metadata": {},
   "outputs": [],
   "source": [
    "#scroll()\n",
    "list_amazon_all_Link = link_page()"
   ]
  },
  {
   "cell_type": "code",
   "execution_count": 30,
   "metadata": {},
   "outputs": [],
   "source": [
    "list_amazon_serie = serie_film_link(\"serie\", list_amazon_all_Link)\n",
    "list_amazon_film = serie_film_link(\"film\", list_amazon_all_Link)"
   ]
  },
  {
   "cell_type": "code",
   "execution_count": 31,
   "metadata": {},
   "outputs": [
    {
     "name": "stdout",
     "output_type": "stream",
     "text": [
      "['/fr/serie/house-of-the-dragon', '/fr/serie/the-peripheral', '/fr/serie/the-handmaids-tale', '/fr/serie/game-of-thrones', '/fr/serie/the-lord-of-the-rings', '/fr/serie/the-white-lotus', '/fr/serie/doctor-who', '/fr/serie/attack-on-titan', '/fr/serie/good-doctor-2017', '/fr/serie/the-boys', '/fr/serie/a-la-croisee-des-mondes', '/fr/serie/the-devils-hour', '/fr/serie/sherlock', '/fr/serie/legacies', '/fr/serie/ncis-enquetes-speciales', '/fr/serie/the-serpent-queen', '/fr/serie/the-office-us', '/fr/serie/chicago-fire', '/fr/serie/orelsan-montre-jamais-ca-a-personne', '/fr/serie/kamen-rider-black-sun'] \n",
      "\n",
      "['/fr/film/terrifier', '/fr/film/overdose', '/fr/film/vesper', '/fr/film/un-homme-en-colere', '/fr/film/heredite', '/fr/film/shining', '/fr/film/tu-ne-tueras-point', '/fr/film/interstellar', '/fr/film/le-seigneur-des-anneaux-i-la-communaute-de-lanneau', '/fr/film/parasite', '/fr/film/casino', '/fr/film/the-taste-of-others', '/fr/film/forrest-gump', '/fr/film/matrix', '/fr/film/un-jour-sans-fin', '/fr/film/mon-nom-est-personne', '/fr/film/john-wick', '/fr/film/enola-holmes-2', '/fr/film/all-quiet-on-the-western-front', '/fr/film/barbarian-2022']\n"
     ]
    }
   ],
   "source": [
    "print(list_amazon_serie[0:20], '\\n')\n",
    "print(list_amazon_film[0:20])"
   ]
  },
  {
   "cell_type": "markdown",
   "metadata": {},
   "source": [
    "### DISNEY PLUS"
   ]
  },
  {
   "cell_type": "code",
   "execution_count": 32,
   "metadata": {},
   "outputs": [],
   "source": [
    "str = \"https://www.justwatch.com\"+list_disney[0]\n",
    "driver.get(str)\n",
    "src = driver.page_source\n",
    "soup = BeautifulSoup(src, 'lxml')"
   ]
  },
  {
   "cell_type": "code",
   "execution_count": 33,
   "metadata": {},
   "outputs": [],
   "source": [
    "#scroll()\n",
    "list_diney_all_Link = link_page()"
   ]
  },
  {
   "cell_type": "code",
   "execution_count": 34,
   "metadata": {},
   "outputs": [],
   "source": [
    "list_disney_serie = serie_film_link(\"serie\", list_diney_all_Link)\n",
    "list_disney_film = serie_film_link(\"film\", list_diney_all_Link)"
   ]
  },
  {
   "cell_type": "code",
   "execution_count": 35,
   "metadata": {},
   "outputs": [
    {
     "name": "stdout",
     "output_type": "stream",
     "text": [
      "['/fr/serie/andor', '/fr/serie/american-horror-story', '/fr/serie/the-bear', '/fr/serie/greys-anatomy', '/fr/serie/the-old-man', '/fr/serie/good-doctor-2017', '/fr/serie/tales-of-the-jedi', '/fr/serie/sherlock', '/fr/serie/she-hulk', '/fr/serie/zootopia', '/fr/serie/the-resident', '/fr/serie/malcolm', '/fr/serie/les-simpson', '/fr/serie/how-i-met-your-mother', '/fr/serie/hpi', '/fr/serie/miraculous-les-aventures-de-ladybug-et-chat-noir', '/fr/serie/9-1-1', '/fr/serie/reboot-2022', '/fr/serie/the-orville', '/fr/serie/9-1-1-lone-star'] \n",
      "\n",
      "['/fr/film/barbarian-2022', '/fr/film/avatar', '/fr/film/black-panther', '/fr/film/terminator-dark-fate', '/fr/film/malefique-le-pouvoir-du-mal', '/fr/film/les-figures-de-lombre', '/fr/film/werewolf-by-night', '/fr/film/oss-117-le-caire-nid-despions', '/fr/film/prey-2022', '/fr/film/letrange-noel-de-monsieur-jack', '/fr/film/disenchanted', '/fr/film/fight-club', '/fr/film/ford-v-ferrari', '/fr/film/kingsman-services-secrets', '/fr/film/enola-holmes-2', '/fr/film/all-quiet-on-the-western-front', '/fr/film/barbarian-2022', '/fr/film/harry-potter-a-lecole-des-sorciers', '/fr/film/terrifier']\n"
     ]
    }
   ],
   "source": [
    "print(list_disney_serie[0:20], '\\n')\n",
    "print(list_disney_film[0:20])"
   ]
  },
  {
   "cell_type": "markdown",
   "metadata": {},
   "source": [
    "### CANAL PLUS"
   ]
  },
  {
   "cell_type": "code",
   "execution_count": 8,
   "metadata": {},
   "outputs": [],
   "source": [
    "str = list_canal[0]\n",
    "driver.get(str)\n",
    "src = driver.page_source\n",
    "soup = BeautifulSoup(src, 'lxml')"
   ]
  },
  {
   "cell_type": "code",
   "execution_count": 9,
   "metadata": {},
   "outputs": [],
   "source": [
    "#scroll()\n",
    "list_canal_all_Link = link_page()"
   ]
  },
  {
   "cell_type": "code",
   "execution_count": 11,
   "metadata": {},
   "outputs": [],
   "source": [
    "list_canal_serie = serie_film_link(\"serie\", list_canal_all_Link)\n",
    "list_canal_film = serie_film_link(\"film\", list_canal_all_Link)"
   ]
  },
  {
   "cell_type": "code",
   "execution_count": 12,
   "metadata": {},
   "outputs": [
    {
     "name": "stdout",
     "output_type": "stream",
     "text": [
      "['/fr/serie/house-of-the-dragon', '/fr/serie/the-walking-dead', '/fr/serie/the-handmaids-tale', '/fr/serie/manifest', '/fr/serie/game-of-thrones', '/fr/serie/the-white-lotus', '/fr/serie/la-brea', '/fr/serie/american-horror-story', '/fr/serie/westworld', '/fr/serie/a-la-croisee-des-mondes', '/fr/serie/stargate-sg-1', '/fr/serie/sherlock', '/fr/serie/ncis-enquetes-speciales', '/fr/serie/the-serpent-queen', '/fr/serie/chicago-fire', '/fr/serie/this-is-us', '/fr/serie/the-resident', '/fr/serie/le-flambeau-les-aventuriers-de-chupacabra', '/fr/serie/malcolm', '/fr/serie/desordres'] \n",
      "\n",
      "['/fr/film/the-batman', '/fr/film/fantastic-beasts-3', '/fr/film/barbaque', '/fr/film/spider-man-no-way-home', '/fr/film/the-kings-man-premiere-mission', '/fr/film/les-vedettes', '/fr/film/lost-city-of-d', '/fr/film/casino', '/fr/film/the-taste-of-others', '/fr/film/prisoners', '/fr/film/forrest-gump', '/fr/film/dune-2020', '/fr/film/nightmare-alley', '/fr/film/uncharted', '/fr/film/un-jour-sans-fin', '/fr/film/mon-nom-est-personne', '/fr/film/eternals', '/fr/film/enola-holmes-2', '/fr/film/all-quiet-on-the-western-front', '/fr/film/barbarian-2022']\n"
     ]
    }
   ],
   "source": [
    "print(list_canal_serie[0:20], '\\n')\n",
    "print(list_canal_film[0:20])"
   ]
  },
  {
   "cell_type": "markdown",
   "metadata": {},
   "source": [
    "### OCS"
   ]
  },
  {
   "cell_type": "code",
   "execution_count": 17,
   "metadata": {},
   "outputs": [],
   "source": [
    "driver.get(list_ocs[0])\n",
    "src = driver.page_source\n",
    "soup = BeautifulSoup(src, 'lxml')"
   ]
  },
  {
   "cell_type": "code",
   "execution_count": 18,
   "metadata": {},
   "outputs": [],
   "source": [
    "#scroll()\n",
    "list_ocs_all_Link = link_page()"
   ]
  },
  {
   "cell_type": "code",
   "execution_count": 19,
   "metadata": {},
   "outputs": [],
   "source": [
    "list_ocs_serie = serie_film_link(\"serie\", list_ocs_all_Link)\n",
    "list_ocs_film = serie_film_link(\"film\", list_ocs_all_Link)"
   ]
  },
  {
   "cell_type": "code",
   "execution_count": 20,
   "metadata": {},
   "outputs": [
    {
     "name": "stdout",
     "output_type": "stream",
     "text": [
      "['/fr/serie/house-of-the-dragon', '/fr/serie/the-walking-dead', '/fr/serie/the-handmaids-tale', '/fr/serie/game-of-thrones', '/fr/serie/the-white-lotus', '/fr/serie/westworld', '/fr/serie/a-la-croisee-des-mondes', '/fr/serie/true-detective', '/fr/serie/euphoria', '/fr/serie/the-nevers', '/fr/serie/avenue-5', '/fr/serie/the-wire', '/fr/serie/succession', '/fr/serie/chernobyl', '/fr/serie/atlanta', '/fr/serie/the-sopranos', '/fr/serie/freres-darmes', '/fr/serie/banshee', '/fr/serie/rome', '/fr/serie/watchmen'] \n",
      "\n",
      "['/fr/film/les-vedettes', '/fr/film/prisoners', '/fr/film/morbius', '/fr/film/twilight-chapitre-1-fascination', '/fr/film/les-crevettes-pailletees', '/fr/film/s-o-s-fantomes-lheritage', '/fr/film/fargo', '/fr/film/s-o-s-fantomes', '/fr/film/la-chasse', '/fr/film/in-the-dark-dont-breathe', '/fr/film/the-hunt', '/fr/film/zodiac', '/fr/film/un-amour-impossible', '/fr/film/mandibules', '/fr/film/la-famille-addams-2019', '/fr/film/un-apres-midi-de-chien', '/fr/film/problemos', '/fr/film/lion', '/fr/film/pleasure-2021', '/fr/film/american-nightmare-4-les-origines']\n"
     ]
    }
   ],
   "source": [
    "print(list_ocs_serie[0:20], '\\n')\n",
    "print(list_ocs_film[0:20])"
   ]
  },
  {
   "cell_type": "markdown",
   "metadata": {},
   "source": [
    "### WAKANIM"
   ]
  },
  {
   "cell_type": "code",
   "execution_count": 23,
   "metadata": {},
   "outputs": [],
   "source": [
    "str = \"https://www.justwatch.com\"+list_wakanim[0]\n",
    "driver.get(str)\n",
    "src = driver.page_source\n",
    "soup = BeautifulSoup(src, 'lxml')"
   ]
  },
  {
   "cell_type": "code",
   "execution_count": 24,
   "metadata": {},
   "outputs": [],
   "source": [
    "#scroll()\n",
    "list_wakanim_all_Link = link_page()"
   ]
  },
  {
   "cell_type": "code",
   "execution_count": 25,
   "metadata": {},
   "outputs": [],
   "source": [
    "list_wakanim_serie = serie_film_link(\"serie\", list_wakanim_all_Link)\n",
    "list_wakanim_film = serie_film_link(\"film\", list_wakanim_all_Link)"
   ]
  },
  {
   "cell_type": "code",
   "execution_count": 26,
   "metadata": {},
   "outputs": [
    {
     "name": "stdout",
     "output_type": "stream",
     "text": [
      "['/fr/serie/attack-on-titan', '/fr/serie/demon-slayer-kimetsu-no-yaiba', '/fr/serie/jujutsu-kaisen', '/fr/serie/sword-art-online', '/fr/serie/haikyu', '/fr/serie/the-promised-neverland', '/fr/serie/made-in-abyss', '/fr/serie/fruits-basket', '/fr/serie/tokyo-ghoul', '/fr/serie/log-horizon', '/fr/serie/your-lie-in-april', '/fr/serie/danmachi-familia-myth', '/fr/serie/erased', '/fr/serie/enen-no-shouboutai-fire-force', '/fr/serie/mushoku-tensei-jobless-reincarnation-2021', '/fr/serie/ranking-of-kings', '/fr/serie/mo-wang-xue-yuan-nobu-shi-he-zhe-shi-shang-zui-qiang-nomo-wang-noshi-zu-zhuan-sheng-shitezi-sun-tachinoxue-xiao-hetong-u', '/fr/serie/kaguya-sama-love-is-war', '/fr/serie/plunderer', '/fr/serie/monogatari'] \n",
      "\n",
      "['/fr/film/enola-holmes-2', '/fr/film/all-quiet-on-the-western-front', '/fr/film/barbarian-2022', '/fr/film/harry-potter-a-lecole-des-sorciers', '/fr/film/terrifier']\n"
     ]
    }
   ],
   "source": [
    "print(list_wakanim_serie[0:20], '\\n')\n",
    "print(list_wakanim_film[0:20])"
   ]
  }
 ],
 "metadata": {
  "kernelspec": {
   "display_name": "Python 3.9.13 ('base')",
   "language": "python",
   "name": "python3"
  },
  "language_info": {
   "codemirror_mode": {
    "name": "ipython",
    "version": 3
   },
   "file_extension": ".py",
   "mimetype": "text/x-python",
   "name": "python",
   "nbconvert_exporter": "python",
   "pygments_lexer": "ipython3",
   "version": "3.9.13"
  },
  "orig_nbformat": 4,
  "vscode": {
   "interpreter": {
    "hash": "e7cb1b9ae4d417fedf7f40a8eec98f7cfbd359e096bd857395a915f4609834ce"
   }
  }
 },
 "nbformat": 4,
 "nbformat_minor": 2
}
